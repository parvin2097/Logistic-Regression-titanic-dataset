{
 "cells": [
  {
   "cell_type": "code",
   "execution_count": 1,
   "id": "7747a1e0",
   "metadata": {},
   "outputs": [],
   "source": [
    "import warnings\n",
    "warnings.filterwarnings('ignore')\n",
    "import pandas as pd\n",
    "import numpy as np\n",
    "import matplotlib.pyplot as plt\n",
    "import seaborn as sns\n",
    "from sklearn.linear_model import LogisticRegression\n",
    "from sklearn.model_selection import train_test_split\n",
    "from sklearn.metrics import confusion_matrix,classification_report\n",
    "%matplotlib inline"
   ]
  },
  {
   "cell_type": "code",
   "execution_count": 2,
   "id": "c15f31d9",
   "metadata": {},
   "outputs": [],
   "source": [
    "path=\"C:/Users/HP/Documents/PARVIN PYTHON/jupyter/\"\n",
    "traindata=pd.read_csv(path+\"train.csv\")"
   ]
  },
  {
   "cell_type": "code",
   "execution_count": 3,
   "id": "cded17ba",
   "metadata": {
    "scrolled": true
   },
   "outputs": [
    {
     "name": "stdout",
     "output_type": "stream",
     "text": [
      "     PassengerId  Survived  Pclass  \\\n",
      "0              1         0       3   \n",
      "1              2         1       1   \n",
      "2              3         1       3   \n",
      "3              4         1       1   \n",
      "4              5         0       3   \n",
      "..           ...       ...     ...   \n",
      "886          887         0       2   \n",
      "887          888         1       1   \n",
      "888          889         0       3   \n",
      "889          890         1       1   \n",
      "890          891         0       3   \n",
      "\n",
      "                                                  Name     Sex   Age  SibSp  \\\n",
      "0                              Braund, Mr. Owen Harris    male  22.0      1   \n",
      "1    Cumings, Mrs. John Bradley (Florence Briggs Th...  female  38.0      1   \n",
      "2                               Heikkinen, Miss. Laina  female  26.0      0   \n",
      "3         Futrelle, Mrs. Jacques Heath (Lily May Peel)  female  35.0      1   \n",
      "4                             Allen, Mr. William Henry    male  35.0      0   \n",
      "..                                                 ...     ...   ...    ...   \n",
      "886                              Montvila, Rev. Juozas    male  27.0      0   \n",
      "887                       Graham, Miss. Margaret Edith  female  19.0      0   \n",
      "888           Johnston, Miss. Catherine Helen \"Carrie\"  female   NaN      1   \n",
      "889                              Behr, Mr. Karl Howell    male  26.0      0   \n",
      "890                                Dooley, Mr. Patrick    male  32.0      0   \n",
      "\n",
      "     Parch            Ticket     Fare Cabin Embarked  \n",
      "0        0         A/5 21171   7.2500   NaN        S  \n",
      "1        0          PC 17599  71.2833   C85        C  \n",
      "2        0  STON/O2. 3101282   7.9250   NaN        S  \n",
      "3        0            113803  53.1000  C123        S  \n",
      "4        0            373450   8.0500   NaN        S  \n",
      "..     ...               ...      ...   ...      ...  \n",
      "886      0            211536  13.0000   NaN        S  \n",
      "887      0            112053  30.0000   B42        S  \n",
      "888      2        W./C. 6607  23.4500   NaN        S  \n",
      "889      0            111369  30.0000  C148        C  \n",
      "890      0            370376   7.7500   NaN        Q  \n",
      "\n",
      "[891 rows x 12 columns]\n"
     ]
    }
   ],
   "source": [
    "print(traindata)"
   ]
  },
  {
   "cell_type": "code",
   "execution_count": 4,
   "id": "276b8bc0",
   "metadata": {},
   "outputs": [
    {
     "name": "stdout",
     "output_type": "stream",
     "text": [
      "       PassengerId    Survived      Pclass         Age       SibSp  \\\n",
      "count   891.000000  891.000000  891.000000  714.000000  891.000000   \n",
      "mean    446.000000    0.383838    2.308642   29.699118    0.523008   \n",
      "std     257.353842    0.486592    0.836071   14.526497    1.102743   \n",
      "min       1.000000    0.000000    1.000000    0.420000    0.000000   \n",
      "25%     223.500000    0.000000    2.000000   20.125000    0.000000   \n",
      "50%     446.000000    0.000000    3.000000   28.000000    0.000000   \n",
      "75%     668.500000    1.000000    3.000000   38.000000    1.000000   \n",
      "max     891.000000    1.000000    3.000000   80.000000    8.000000   \n",
      "\n",
      "            Parch        Fare  \n",
      "count  891.000000  891.000000  \n",
      "mean     0.381594   32.204208  \n",
      "std      0.806057   49.693429  \n",
      "min      0.000000    0.000000  \n",
      "25%      0.000000    7.910400  \n",
      "50%      0.000000   14.454200  \n",
      "75%      0.000000   31.000000  \n",
      "max      6.000000  512.329200  \n"
     ]
    }
   ],
   "source": [
    "print(traindata.describe())"
   ]
  },
  {
   "cell_type": "code",
   "execution_count": 5,
   "id": "750f77fd",
   "metadata": {},
   "outputs": [
    {
     "name": "stdout",
     "output_type": "stream",
     "text": [
      "Index(['PassengerId', 'Survived', 'Pclass', 'Name', 'Sex', 'Age', 'SibSp',\n",
      "       'Parch', 'Ticket', 'Fare', 'Cabin', 'Embarked'],\n",
      "      dtype='object')\n"
     ]
    }
   ],
   "source": [
    "print(traindata.columns)"
   ]
  },
  {
   "cell_type": "code",
   "execution_count": 6,
   "id": "7ce0ecfb",
   "metadata": {},
   "outputs": [
    {
     "name": "stdout",
     "output_type": "stream",
     "text": [
      "PassengerId      int64\n",
      "Survived         int64\n",
      "Pclass           int64\n",
      "Name            object\n",
      "Sex             object\n",
      "Age            float64\n",
      "SibSp            int64\n",
      "Parch            int64\n",
      "Ticket          object\n",
      "Fare           float64\n",
      "Cabin           object\n",
      "Embarked        object\n",
      "dtype: object\n"
     ]
    }
   ],
   "source": [
    "print(traindata.dtypes)"
   ]
  },
  {
   "cell_type": "code",
   "execution_count": 7,
   "id": "694eafd4",
   "metadata": {},
   "outputs": [
    {
     "name": "stdout",
     "output_type": "stream",
     "text": [
      "PassengerId      0\n",
      "Survived         0\n",
      "Pclass           0\n",
      "Name             0\n",
      "Sex              0\n",
      "Age            177\n",
      "SibSp            0\n",
      "Parch            0\n",
      "Ticket           0\n",
      "Fare             0\n",
      "Cabin          687\n",
      "Embarked         2\n",
      "dtype: int64\n"
     ]
    }
   ],
   "source": [
    "print(traindata.isnull().sum())"
   ]
  },
  {
   "cell_type": "markdown",
   "id": "0ffcd9fa",
   "metadata": {},
   "source": [
    "**Handling missing values**"
   ]
  },
  {
   "cell_type": "code",
   "execution_count": 8,
   "id": "b4a243ba",
   "metadata": {},
   "outputs": [
    {
     "name": "stdout",
     "output_type": "stream",
     "text": [
      "0    549\n",
      "1    342\n",
      "Name: Survived, dtype: int64\n"
     ]
    }
   ],
   "source": [
    "#'survived' is our target column\n",
    "print(traindata.Survived.value_counts())"
   ]
  },
  {
   "cell_type": "code",
   "execution_count": 9,
   "id": "a19cd8a0",
   "metadata": {},
   "outputs": [
    {
     "data": {
      "image/png": "[encoded data removed]",
      "text/plain": [
       "<Figure size 432x288 with 1 Axes>"
      ]
     },
     "metadata": {
      "needs_background": "light"
     },
     "output_type": "display_data"
    }
   ],
   "source": [
    "plot1=traindata.Survived.value_counts().plot.bar()\n",
    "plot1.set_xlabel(\"survived or not\")\n",
    "plot1.set_ylabel(\"counts\")\n",
    "plt.show()"
   ]
  },
  {
   "cell_type": "code",
   "execution_count": 10,
   "id": "6716480a",
   "metadata": {},
   "outputs": [
    {
     "name": "stdout",
     "output_type": "stream",
     "text": [
      "3    491\n",
      "1    216\n",
      "2    184\n",
      "Name: Pclass, dtype: int64\n"
     ]
    }
   ],
   "source": [
    "print(traindata.Pclass.value_counts())"
   ]
  },
  {
   "cell_type": "code",
   "execution_count": 11,
   "id": "9c680722",
   "metadata": {},
   "outputs": [
    {
     "name": "stdout",
     "output_type": "stream",
     "text": [
      "1    216\n",
      "2    184\n",
      "3    491\n",
      "Name: Pclass, dtype: int64\n"
     ]
    }
   ],
   "source": [
    "print(traindata.Pclass.value_counts().sort_index())"
   ]
  },
  {
   "cell_type": "code",
   "execution_count": 12,
   "id": "ad8a84ff",
   "metadata": {},
   "outputs": [
    {
     "data": {
      "image/png": "[encoded data removed]",
      "text/plain": [
       "<Figure size 432x288 with 1 Axes>"
      ]
     },
     "metadata": {
      "needs_background": "light"
     },
     "output_type": "display_data"
    }
   ],
   "source": [
    "plot1=traindata.Pclass.value_counts().sort_index().plot.bar()\n",
    "plot1.set_xlabel(\"Pclass\")\n",
    "plot1.set_ylabel(\"survival probability\")\n",
    "plt.show()"
   ]
  },
  {
   "cell_type": "code",
   "execution_count": 13,
   "id": "647c2802",
   "metadata": {},
   "outputs": [
    {
     "data": {
      "text/html": [
       "<div>\n",
       "<style scoped>\n",
       "    .dataframe tbody tr th:only-of-type {\n",
       "        vertical-align: middle;\n",
       "    }\n",
       "\n",
       "    .dataframe tbody tr th {\n",
       "        vertical-align: top;\n",
       "    }\n",
       "\n",
       "    .dataframe thead th {\n",
       "        text-align: right;\n",
       "    }\n",
       "</style>\n",
       "<table border=\"1\" class=\"dataframe\">\n",
       "  <thead>\n",
       "    <tr style=\"text-align: right;\">\n",
       "      <th></th>\n",
       "      <th>Survived</th>\n",
       "    </tr>\n",
       "    <tr>\n",
       "      <th>Pclass</th>\n",
       "      <th></th>\n",
       "    </tr>\n",
       "  </thead>\n",
       "  <tbody>\n",
       "    <tr>\n",
       "      <th>1</th>\n",
       "      <td>216</td>\n",
       "    </tr>\n",
       "    <tr>\n",
       "      <th>2</th>\n",
       "      <td>184</td>\n",
       "    </tr>\n",
       "    <tr>\n",
       "      <th>3</th>\n",
       "      <td>491</td>\n",
       "    </tr>\n",
       "  </tbody>\n",
       "</table>\n",
       "</div>"
      ],
      "text/plain": [
       "        Survived\n",
       "Pclass          \n",
       "1            216\n",
       "2            184\n",
       "3            491"
      ]
     },
     "execution_count": 13,
     "metadata": {},
     "output_type": "execute_result"
    }
   ],
   "source": [
    "traindata[['Pclass','Survived']].groupby('Pclass').count()"
   ]
  },
  {
   "cell_type": "code",
   "execution_count": 14,
   "id": "75fb0798",
   "metadata": {},
   "outputs": [
    {
     "data": {
      "image/png": "[encoded data removed]",
      "text/plain": [
       "<Figure size 432x288 with 1 Axes>"
      ]
     },
     "metadata": {
      "needs_background": "light"
     },
     "output_type": "display_data"
    }
   ],
   "source": [
    "prob_of_survival=traindata[['Pclass','Survived']].groupby('Pclass').count().plot.bar()\n",
    "prob_of_survival.set_xlabel(\"Pclass\")\n",
    "prob_of_survival.set_ylabel(\"prob of survival\")\n",
    "plt.show()"
   ]
  },
  {
   "cell_type": "code",
   "execution_count": 15,
   "id": "4921e47f",
   "metadata": {},
   "outputs": [
    {
     "name": "stdout",
     "output_type": "stream",
     "text": [
      "        Survived\n",
      "Pclass          \n",
      "1            136\n",
      "2             87\n",
      "3            119\n"
     ]
    }
   ],
   "source": [
    "print(traindata[['Pclass','Survived']].groupby('Pclass').sum())"
   ]
  },
  {
   "cell_type": "markdown",
   "id": "bf3f97bf",
   "metadata": {},
   "source": [
    "majority of people are in 3rd class"
   ]
  },
  {
   "cell_type": "code",
   "execution_count": 16,
   "id": "ccc50761",
   "metadata": {},
   "outputs": [
    {
     "name": "stdout",
     "output_type": "stream",
     "text": [
      "        Survived\n",
      "Pclass          \n",
      "1       0.629630\n",
      "2       0.472826\n",
      "3       0.242363\n"
     ]
    }
   ],
   "source": [
    "print(traindata[['Pclass','Survived']].groupby('Pclass').mean())"
   ]
  },
  {
   "cell_type": "code",
   "execution_count": 17,
   "id": "65c4e95f",
   "metadata": {},
   "outputs": [
    {
     "data": {
      "image/png": "[encoded data removed]",
      "text/plain": [
       "<Figure size 432x288 with 1 Axes>"
      ]
     },
     "metadata": {
      "needs_background": "light"
     },
     "output_type": "display_data"
    }
   ],
   "source": [
    "prob=traindata[['Pclass','Survived']].groupby('Pclass').mean().plot.bar()\n",
    "prob.set_ylabel('survival prob')\n",
    "plt.show()"
   ]
  },
  {
   "cell_type": "markdown",
   "id": "5c8b5513",
   "metadata": {},
   "source": [
    "thus, the above graph states that the people in 1st class have high chance of living"
   ]
  },
  {
   "cell_type": "markdown",
   "id": "9cf2da04",
   "metadata": {},
   "source": [
    "next,to find which gender has high prob of living"
   ]
  },
  {
   "cell_type": "code",
   "execution_count": 18,
   "id": "5d48aae7",
   "metadata": {},
   "outputs": [
    {
     "name": "stdout",
     "output_type": "stream",
     "text": [
      "male      577\n",
      "female    314\n",
      "Name: Sex, dtype: int64\n"
     ]
    },
    {
     "data": {
      "image/png": "[encoded data removed]",
      "text/plain": [
       "<Figure size 432x288 with 1 Axes>"
      ]
     },
     "metadata": {
      "needs_background": "light"
     },
     "output_type": "display_data"
    }
   ],
   "source": [
    "print(traindata['Sex'].value_counts())\n",
    "traindata.Sex.value_counts().plot.bar()\n",
    "plt.show()"
   ]
  },
  {
   "cell_type": "code",
   "execution_count": 19,
   "id": "283e867c",
   "metadata": {},
   "outputs": [
    {
     "name": "stdout",
     "output_type": "stream",
     "text": [
      "        Survived\n",
      "Sex             \n",
      "female       314\n",
      "male         577\n"
     ]
    },
    {
     "data": {
      "image/png": "[encoded data removed]",
      "text/plain": [
       "<Figure size 432x288 with 1 Axes>"
      ]
     },
     "metadata": {
      "needs_background": "light"
     },
     "output_type": "display_data"
    }
   ],
   "source": [
    "print(traindata[['Sex','Survived']].groupby('Sex').count())\n",
    "traindata[['Sex','Survived']].groupby('Sex').count().plot.bar()\n",
    "plt.show()"
   ]
  },
  {
   "cell_type": "code",
   "execution_count": 20,
   "id": "65b4a129",
   "metadata": {},
   "outputs": [
    {
     "data": {
      "text/plain": [
       "<AxesSubplot:xlabel='Sex'>"
      ]
     },
     "execution_count": 20,
     "metadata": {},
     "output_type": "execute_result"
    },
    {
     "data": {
      "image/png": "[encoded data removed]",
      "text/plain": [
       "<Figure size 432x288 with 1 Axes>"
      ]
     },
     "metadata": {
      "needs_background": "light"
     },
     "output_type": "display_data"
    }
   ],
   "source": [
    "#prob of survival\n",
    "traindata[['Sex','Survived']].groupby('Sex').mean().Survived.plot.bar()"
   ]
  },
  {
   "cell_type": "markdown",
   "id": "947d371a",
   "metadata": {},
   "source": [
    "thus,from the above graph,we can tell that female has high chance of living"
   ]
  },
  {
   "cell_type": "markdown",
   "id": "7c85c01b",
   "metadata": {},
   "source": [
    "next,to find people embarked in which city have high chance of survival"
   ]
  },
  {
   "cell_type": "code",
   "execution_count": 21,
   "id": "a02caa30",
   "metadata": {},
   "outputs": [
    {
     "name": "stdout",
     "output_type": "stream",
     "text": [
      "Embarked  Survived\n",
      "S         0           427\n",
      "          1           217\n",
      "C         1            93\n",
      "          0            75\n",
      "Q         0            47\n",
      "          1            30\n",
      "dtype: int64\n"
     ]
    }
   ],
   "source": [
    "print(traindata[['Embarked','Survived']].value_counts())"
   ]
  },
  {
   "cell_type": "code",
   "execution_count": 22,
   "id": "a6626fea",
   "metadata": {},
   "outputs": [
    {
     "name": "stdout",
     "output_type": "stream",
     "text": [
      "          Survived\n",
      "Embarked          \n",
      "C              168\n",
      "Q               77\n",
      "S              644\n"
     ]
    },
    {
     "data": {
      "image/png": "[encoded data removed]",
      "text/plain": [
       "<Figure size 432x288 with 1 Axes>"
      ]
     },
     "metadata": {
      "needs_background": "light"
     },
     "output_type": "display_data"
    }
   ],
   "source": [
    "print(traindata[['Embarked','Survived']].groupby('Embarked').count())\n",
    "traindata[['Embarked','Survived']].groupby('Embarked').count().plot.bar()\n",
    "plt.show()"
   ]
  },
  {
   "cell_type": "code",
   "execution_count": 23,
   "id": "93fc8488",
   "metadata": {},
   "outputs": [
    {
     "data": {
      "text/plain": [
       "Text(0, 0.5, 'survival prob')"
      ]
     },
     "execution_count": 23,
     "metadata": {},
     "output_type": "execute_result"
    },
    {
     "data": {
      "image/png": "[encoded data removed]",
      "text/plain": [
       "<Figure size 432x288 with 1 Axes>"
      ]
     },
     "metadata": {
      "needs_background": "light"
     },
     "output_type": "display_data"
    }
   ],
   "source": [
    "prob=traindata[['Embarked','Survived']].groupby('Embarked').mean().Survived.plot.bar()\n",
    "prob.set_ylabel('survival prob')"
   ]
  },
  {
   "cell_type": "markdown",
   "id": "619e2f78",
   "metadata": {},
   "source": [
    "most of the people are from SouthAmpton(S),but the prob of chance of living is C>Q>S"
   ]
  },
  {
   "cell_type": "markdown",
   "id": "c56ae017",
   "metadata": {},
   "source": [
    "next,prob of chances of living for people with sibling/spouse(SibSp)"
   ]
  },
  {
   "cell_type": "code",
   "execution_count": 24,
   "id": "8956984a",
   "metadata": {},
   "outputs": [
    {
     "data": {
      "image/png": "[encoded data removed]",
      "text/plain": [
       "<Figure size 432x288 with 1 Axes>"
      ]
     },
     "metadata": {
      "needs_background": "light"
     },
     "output_type": "display_data"
    }
   ],
   "source": [
    "prob=traindata[['SibSp','Survived']].groupby('SibSp').count().plot.bar()\n",
    "prob.set_ylabel('Survival prob')\n",
    "plt.show()"
   ]
  },
  {
   "cell_type": "markdown",
   "id": "889077c7",
   "metadata": {},
   "source": [
    "thus,most people dont have siblings or spouse"
   ]
  },
  {
   "cell_type": "code",
   "execution_count": 25,
   "id": "81e022bf",
   "metadata": {},
   "outputs": [
    {
     "data": {
      "image/png": "[encoded data removed]",
      "text/plain": [
       "<Figure size 432x288 with 1 Axes>"
      ]
     },
     "metadata": {
      "needs_background": "light"
     },
     "output_type": "display_data"
    }
   ],
   "source": [
    "prob=traindata[['SibSp','Survived']].groupby('SibSp').mean().Survived.plot.bar()\n",
    "plt.show()"
   ]
  },
  {
   "cell_type": "markdown",
   "id": "2d7ce9fd",
   "metadata": {},
   "source": [
    "thus survival prob is 1>2>0>3>4"
   ]
  },
  {
   "cell_type": "markdown",
   "id": "f9b5fefb",
   "metadata": {},
   "source": [
    "next,prob of people with parents and children(Parch)"
   ]
  },
  {
   "cell_type": "code",
   "execution_count": 26,
   "id": "e736453d",
   "metadata": {},
   "outputs": [
    {
     "data": {
      "image/png": "[encoded data removed]",
      "text/plain": [
       "<Figure size 432x288 with 1 Axes>"
      ]
     },
     "metadata": {
      "needs_background": "light"
     },
     "output_type": "display_data"
    }
   ],
   "source": [
    "prob=traindata[['Parch','Survived']].groupby('Parch').count().plot.bar()\n",
    "plt.show()"
   ]
  },
  {
   "cell_type": "markdown",
   "id": "bc0711ff",
   "metadata": {},
   "source": [
    "thus,most people neither have parents nor children"
   ]
  },
  {
   "cell_type": "code",
   "execution_count": 27,
   "id": "7eb7c66a",
   "metadata": {},
   "outputs": [
    {
     "data": {
      "image/png": "[encoded data removed]",
      "text/plain": [
       "<Figure size 432x288 with 1 Axes>"
      ]
     },
     "metadata": {
      "needs_background": "light"
     },
     "output_type": "display_data"
    }
   ],
   "source": [
    "prob=traindata[['Parch','Survived']].groupby('Parch').mean().plot.bar()\n",
    "prob.set_ylabel('Survival prob')\n",
    "plt.show()"
   ]
  },
  {
   "cell_type": "markdown",
   "id": "adecbc32",
   "metadata": {},
   "source": [
    "thus,prob of chance of living ranges as 3>1>2>0>5"
   ]
  },
  {
   "cell_type": "markdown",
   "id": "2b5d92f7",
   "metadata": {},
   "source": [
    "Pclass Vs Embarked"
   ]
  },
  {
   "cell_type": "code",
   "execution_count": 28,
   "id": "07a98169",
   "metadata": {},
   "outputs": [
    {
     "data": {
      "image/png": "[encoded data removed]",
      "text/plain": [
       "<Figure size 1080x360 with 3 Axes>"
      ]
     },
     "metadata": {
      "needs_background": "light"
     },
     "output_type": "display_data"
    }
   ],
   "source": [
    "sns.factorplot('Pclass',col='Embarked',data=traindata,kind='count')\n",
    "plt.show()"
   ]
  },
  {
   "cell_type": "markdown",
   "id": "9de6907a",
   "metadata": {},
   "source": [
    "Pclass Vs Sex"
   ]
  },
  {
   "cell_type": "code",
   "execution_count": 29,
   "id": "336f7840",
   "metadata": {},
   "outputs": [
    {
     "data": {
      "image/png": "[encoded data removed]",
      "text/plain": [
       "<Figure size 1080x360 with 3 Axes>"
      ]
     },
     "metadata": {
      "needs_background": "light"
     },
     "output_type": "display_data"
    }
   ],
   "source": [
    "sns.factorplot('Sex',col='Pclass',data=traindata,kind='count')\n",
    "plt.show()"
   ]
  },
  {
   "cell_type": "markdown",
   "id": "8f141acb",
   "metadata": {},
   "source": [
    "Sex Vs Embaked"
   ]
  },
  {
   "cell_type": "code",
   "execution_count": 30,
   "id": "bb228d4a",
   "metadata": {},
   "outputs": [
    {
     "data": {
      "image/png": "[encoded data removed]",
      "text/plain": [
       "<Figure size 1080x360 with 3 Axes>"
      ]
     },
     "metadata": {
      "needs_background": "light"
     },
     "output_type": "display_data"
    }
   ],
   "source": [
    "sns.factorplot('Sex',col='Embarked',data=traindata,kind='count')\n",
    "plt.show()"
   ]
  },
  {
   "cell_type": "markdown",
   "id": "59986bfb",
   "metadata": {},
   "source": [
    "Next,create a new col 'FamilySize'"
   ]
  },
  {
   "cell_type": "code",
   "execution_count": 31,
   "id": "e33d80d7",
   "metadata": {},
   "outputs": [
    {
     "name": "stdout",
     "output_type": "stream",
     "text": [
      "     PassengerId  Survived  Pclass  \\\n",
      "0              1         0       3   \n",
      "1              2         1       1   \n",
      "2              3         1       3   \n",
      "3              4         1       1   \n",
      "4              5         0       3   \n",
      "..           ...       ...     ...   \n",
      "886          887         0       2   \n",
      "887          888         1       1   \n",
      "888          889         0       3   \n",
      "889          890         1       1   \n",
      "890          891         0       3   \n",
      "\n",
      "                                                  Name     Sex   Age  SibSp  \\\n",
      "0                              Braund, Mr. Owen Harris    male  22.0      1   \n",
      "1    Cumings, Mrs. John Bradley (Florence Briggs Th...  female  38.0      1   \n",
      "2                               Heikkinen, Miss. Laina  female  26.0      0   \n",
      "3         Futrelle, Mrs. Jacques Heath (Lily May Peel)  female  35.0      1   \n",
      "4                             Allen, Mr. William Henry    male  35.0      0   \n",
      "..                                                 ...     ...   ...    ...   \n",
      "886                              Montvila, Rev. Juozas    male  27.0      0   \n",
      "887                       Graham, Miss. Margaret Edith  female  19.0      0   \n",
      "888           Johnston, Miss. Catherine Helen \"Carrie\"  female   NaN      1   \n",
      "889                              Behr, Mr. Karl Howell    male  26.0      0   \n",
      "890                                Dooley, Mr. Patrick    male  32.0      0   \n",
      "\n",
      "     Parch            Ticket     Fare Cabin Embarked  FamilySize  \n",
      "0        0         A/5 21171   7.2500   NaN        S           2  \n",
      "1        0          PC 17599  71.2833   C85        C           2  \n",
      "2        0  STON/O2. 3101282   7.9250   NaN        S           1  \n",
      "3        0            113803  53.1000  C123        S           2  \n",
      "4        0            373450   8.0500   NaN        S           1  \n",
      "..     ...               ...      ...   ...      ...         ...  \n",
      "886      0            211536  13.0000   NaN        S           1  \n",
      "887      0            112053  30.0000   B42        S           1  \n",
      "888      2        W./C. 6607  23.4500   NaN        S           4  \n",
      "889      0            111369  30.0000  C148        C           1  \n",
      "890      0            370376   7.7500   NaN        Q           1  \n",
      "\n",
      "[891 rows x 13 columns]\n"
     ]
    }
   ],
   "source": [
    "traindata['FamilySize']=traindata['SibSp']+traindata['Parch']+1\n",
    "print(traindata)"
   ]
  },
  {
   "cell_type": "markdown",
   "id": "06cb0252",
   "metadata": {},
   "source": [
    "Next,remove unnecessary columns"
   ]
  },
  {
   "cell_type": "code",
   "execution_count": 32,
   "id": "3bf86cb5",
   "metadata": {},
   "outputs": [
    {
     "name": "stdout",
     "output_type": "stream",
     "text": [
      "     Survived  Pclass                                               Name  \\\n",
      "0           0       3                            Braund, Mr. Owen Harris   \n",
      "1           1       1  Cumings, Mrs. John Bradley (Florence Briggs Th...   \n",
      "2           1       3                             Heikkinen, Miss. Laina   \n",
      "3           1       1       Futrelle, Mrs. Jacques Heath (Lily May Peel)   \n",
      "4           0       3                           Allen, Mr. William Henry   \n",
      "..        ...     ...                                                ...   \n",
      "886         0       2                              Montvila, Rev. Juozas   \n",
      "887         1       1                       Graham, Miss. Margaret Edith   \n",
      "888         0       3           Johnston, Miss. Catherine Helen \"Carrie\"   \n",
      "889         1       1                              Behr, Mr. Karl Howell   \n",
      "890         0       3                                Dooley, Mr. Patrick   \n",
      "\n",
      "        Sex   Age  SibSp  Parch     Fare Embarked  FamilySize  \n",
      "0      male  22.0      1      0   7.2500        S           2  \n",
      "1    female  38.0      1      0  71.2833        C           2  \n",
      "2    female  26.0      0      0   7.9250        S           1  \n",
      "3    female  35.0      1      0  53.1000        S           2  \n",
      "4      male  35.0      0      0   8.0500        S           1  \n",
      "..      ...   ...    ...    ...      ...      ...         ...  \n",
      "886    male  27.0      0      0  13.0000        S           1  \n",
      "887  female  19.0      0      0  30.0000        S           1  \n",
      "888  female   NaN      1      2  23.4500        S           4  \n",
      "889    male  26.0      0      0  30.0000        C           1  \n",
      "890    male  32.0      0      0   7.7500        Q           1  \n",
      "\n",
      "[891 rows x 10 columns]\n"
     ]
    }
   ],
   "source": [
    "traindata=traindata.drop(columns=['PassengerId','Ticket','Cabin'])\n",
    "print(traindata)"
   ]
  },
  {
   "cell_type": "markdown",
   "id": "b16b962a",
   "metadata": {},
   "source": [
    "map Sex and Embarked columns with numerical values"
   ]
  },
  {
   "cell_type": "code",
   "execution_count": 33,
   "id": "b72fae6b",
   "metadata": {},
   "outputs": [
    {
     "name": "stdout",
     "output_type": "stream",
     "text": [
      "     Survived  Pclass                                               Name  Sex  \\\n",
      "0           0       3                            Braund, Mr. Owen Harris    0   \n",
      "1           1       1  Cumings, Mrs. John Bradley (Florence Briggs Th...    1   \n",
      "2           1       3                             Heikkinen, Miss. Laina    1   \n",
      "3           1       1       Futrelle, Mrs. Jacques Heath (Lily May Peel)    1   \n",
      "4           0       3                           Allen, Mr. William Henry    0   \n",
      "..        ...     ...                                                ...  ...   \n",
      "886         0       2                              Montvila, Rev. Juozas    0   \n",
      "887         1       1                       Graham, Miss. Margaret Edith    1   \n",
      "888         0       3           Johnston, Miss. Catherine Helen \"Carrie\"    1   \n",
      "889         1       1                              Behr, Mr. Karl Howell    0   \n",
      "890         0       3                                Dooley, Mr. Patrick    0   \n",
      "\n",
      "      Age  SibSp  Parch     Fare  Embarked  FamilySize  \n",
      "0    22.0      1      0   7.2500       2.0           2  \n",
      "1    38.0      1      0  71.2833       0.0           2  \n",
      "2    26.0      0      0   7.9250       2.0           1  \n",
      "3    35.0      1      0  53.1000       2.0           2  \n",
      "4    35.0      0      0   8.0500       2.0           1  \n",
      "..    ...    ...    ...      ...       ...         ...  \n",
      "886  27.0      0      0  13.0000       2.0           1  \n",
      "887  19.0      0      0  30.0000       2.0           1  \n",
      "888   NaN      1      2  23.4500       2.0           4  \n",
      "889  26.0      0      0  30.0000       0.0           1  \n",
      "890  32.0      0      0   7.7500       1.0           1  \n",
      "\n",
      "[891 rows x 10 columns]\n"
     ]
    }
   ],
   "source": [
    "traindata['Sex']=traindata['Sex'].map({'male':0,'female':1})\n",
    "traindata['Embarked']=traindata['Embarked'].map({'C':0,'Q':1,'S':2})\n",
    "print(traindata)"
   ]
  },
  {
   "cell_type": "markdown",
   "id": "a1eda904",
   "metadata": {},
   "source": [
    "Extract names into a new col 'Title',group them, and drop 'names' column"
   ]
  },
  {
   "cell_type": "code",
   "execution_count": 34,
   "id": "ce937693",
   "metadata": {},
   "outputs": [
    {
     "name": "stdout",
     "output_type": "stream",
     "text": [
      "     Survived  Pclass                                               Name  Sex  \\\n",
      "0           0       3                            Braund, Mr. Owen Harris    0   \n",
      "1           1       1  Cumings, Mrs. John Bradley (Florence Briggs Th...    1   \n",
      "2           1       3                             Heikkinen, Miss. Laina    1   \n",
      "3           1       1       Futrelle, Mrs. Jacques Heath (Lily May Peel)    1   \n",
      "4           0       3                           Allen, Mr. William Henry    0   \n",
      "..        ...     ...                                                ...  ...   \n",
      "886         0       2                              Montvila, Rev. Juozas    0   \n",
      "887         1       1                       Graham, Miss. Margaret Edith    1   \n",
      "888         0       3           Johnston, Miss. Catherine Helen \"Carrie\"    1   \n",
      "889         1       1                              Behr, Mr. Karl Howell    0   \n",
      "890         0       3                                Dooley, Mr. Patrick    0   \n",
      "\n",
      "      Age  SibSp  Parch     Fare  Embarked  FamilySize  \n",
      "0    22.0      1      0   7.2500       2.0           2  \n",
      "1    38.0      1      0  71.2833       0.0           2  \n",
      "2    26.0      0      0   7.9250       2.0           1  \n",
      "3    35.0      1      0  53.1000       2.0           2  \n",
      "4    35.0      0      0   8.0500       2.0           1  \n",
      "..    ...    ...    ...      ...       ...         ...  \n",
      "886  27.0      0      0  13.0000       2.0           1  \n",
      "887  19.0      0      0  30.0000       2.0           1  \n",
      "888   NaN      1      2  23.4500       2.0           4  \n",
      "889  26.0      0      0  30.0000       0.0           1  \n",
      "890  32.0      0      0   7.7500       1.0           1  \n",
      "\n",
      "[891 rows x 10 columns]\n"
     ]
    }
   ],
   "source": [
    "print(traindata)"
   ]
  },
  {
   "cell_type": "code",
   "execution_count": 35,
   "id": "ba1cb97e",
   "metadata": {},
   "outputs": [
    {
     "data": {
      "image/png": "[encoded data removed]",
      "text/plain": [
       "<Figure size 432x288 with 1 Axes>"
      ]
     },
     "metadata": {
      "needs_background": "light"
     },
     "output_type": "display_data"
    }
   ],
   "source": [
    "traindata['Title']=traindata['Name'].str.extract('([A-Za-z]+\\.)')\n",
    "traindata['Title'].value_counts().plot.bar()\n",
    "plt.show()"
   ]
  },
  {
   "cell_type": "code",
   "execution_count": 36,
   "id": "8f84e831",
   "metadata": {},
   "outputs": [
    {
     "data": {
      "image/png": "[encoded data removed]",
      "text/plain": [
       "<Figure size 432x288 with 1 Axes>"
      ]
     },
     "metadata": {
      "needs_background": "light"
     },
     "output_type": "display_data"
    }
   ],
   "source": [
    "traindata['Title']=traindata['Title'].replace(['Dr.','Rev.','Major.','Mlle.','Col.','Lady.','Countess.','Ms.','Mme.','Jonkheer.','Don.','Sir.','Capt.'],'Others')\n",
    "traindata[\"Title\"].value_counts().plot.bar()\n",
    "plt.show()"
   ]
  },
  {
   "cell_type": "code",
   "execution_count": 37,
   "id": "b08fe29a",
   "metadata": {},
   "outputs": [
    {
     "data": {
      "text/plain": [
       "Text(0, 0.5, 'Survival prob')"
      ]
     },
     "execution_count": 37,
     "metadata": {},
     "output_type": "execute_result"
    },
    {
     "data": {
      "image/png": "[encoded data removed]",
      "text/plain": [
       "<Figure size 432x288 with 1 Axes>"
      ]
     },
     "metadata": {
      "needs_background": "light"
     },
     "output_type": "display_data"
    }
   ],
   "source": [
    "prob=traindata[['Title','Survived']].groupby('Title').mean().Survived.plot.bar()\n",
    "prob.set_ylabel('Survival prob')"
   ]
  },
  {
   "cell_type": "markdown",
   "id": "afd55243",
   "metadata": {},
   "source": [
    "thus,probability of Miss and Mrs is high compared to other people"
   ]
  },
  {
   "cell_type": "markdown",
   "id": "d5b0a718",
   "metadata": {},
   "source": [
    "Next,map 'Title' to numeric values"
   ]
  },
  {
   "cell_type": "code",
   "execution_count": 38,
   "id": "de0eb4a4",
   "metadata": {},
   "outputs": [
    {
     "name": "stdout",
     "output_type": "stream",
     "text": [
      "     Survived  Pclass                                               Name  Sex  \\\n",
      "0           0       3                            Braund, Mr. Owen Harris    0   \n",
      "1           1       1  Cumings, Mrs. John Bradley (Florence Briggs Th...    1   \n",
      "2           1       3                             Heikkinen, Miss. Laina    1   \n",
      "3           1       1       Futrelle, Mrs. Jacques Heath (Lily May Peel)    1   \n",
      "4           0       3                           Allen, Mr. William Henry    0   \n",
      "..        ...     ...                                                ...  ...   \n",
      "886         0       2                              Montvila, Rev. Juozas    0   \n",
      "887         1       1                       Graham, Miss. Margaret Edith    1   \n",
      "888         0       3           Johnston, Miss. Catherine Helen \"Carrie\"    1   \n",
      "889         1       1                              Behr, Mr. Karl Howell    0   \n",
      "890         0       3                                Dooley, Mr. Patrick    0   \n",
      "\n",
      "      Age  SibSp  Parch     Fare  Embarked  FamilySize  Title  \n",
      "0    22.0      1      0   7.2500       2.0           2      2  \n",
      "1    38.0      1      0  71.2833       0.0           2      3  \n",
      "2    26.0      0      0   7.9250       2.0           1      1  \n",
      "3    35.0      1      0  53.1000       2.0           2      3  \n",
      "4    35.0      0      0   8.0500       2.0           1      2  \n",
      "..    ...    ...    ...      ...       ...         ...    ...  \n",
      "886  27.0      0      0  13.0000       2.0           1      4  \n",
      "887  19.0      0      0  30.0000       2.0           1      1  \n",
      "888   NaN      1      2  23.4500       2.0           4      1  \n",
      "889  26.0      0      0  30.0000       0.0           1      2  \n",
      "890  32.0      0      0   7.7500       1.0           1      2  \n",
      "\n",
      "[891 rows x 11 columns]\n"
     ]
    }
   ],
   "source": [
    "traindata['Title']=traindata['Title'].map({'Master.':0,'Miss.':1,'Mr.':2,'Mrs.':3,'Others':4})\n",
    "print(traindata)"
   ]
  },
  {
   "cell_type": "code",
   "execution_count": 39,
   "id": "8425d6e0",
   "metadata": {},
   "outputs": [],
   "source": [
    "traindata=traindata.drop(columns='Name')"
   ]
  },
  {
   "cell_type": "code",
   "execution_count": 40,
   "id": "d582ecac",
   "metadata": {},
   "outputs": [
    {
     "name": "stdout",
     "output_type": "stream",
     "text": [
      "     Survived  Pclass  Sex   Age  SibSp  Parch     Fare  Embarked  FamilySize  \\\n",
      "0           0       3    0  22.0      1      0   7.2500       2.0           2   \n",
      "1           1       1    1  38.0      1      0  71.2833       0.0           2   \n",
      "2           1       3    1  26.0      0      0   7.9250       2.0           1   \n",
      "3           1       1    1  35.0      1      0  53.1000       2.0           2   \n",
      "4           0       3    0  35.0      0      0   8.0500       2.0           1   \n",
      "..        ...     ...  ...   ...    ...    ...      ...       ...         ...   \n",
      "886         0       2    0  27.0      0      0  13.0000       2.0           1   \n",
      "887         1       1    1  19.0      0      0  30.0000       2.0           1   \n",
      "888         0       3    1   NaN      1      2  23.4500       2.0           4   \n",
      "889         1       1    0  26.0      0      0  30.0000       0.0           1   \n",
      "890         0       3    0  32.0      0      0   7.7500       1.0           1   \n",
      "\n",
      "     Title  \n",
      "0        2  \n",
      "1        3  \n",
      "2        1  \n",
      "3        3  \n",
      "4        2  \n",
      "..     ...  \n",
      "886      4  \n",
      "887      1  \n",
      "888      1  \n",
      "889      2  \n",
      "890      2  \n",
      "\n",
      "[891 rows x 10 columns]\n"
     ]
    }
   ],
   "source": [
    "print(traindata)"
   ]
  },
  {
   "cell_type": "markdown",
   "id": "ea57d934",
   "metadata": {},
   "source": [
    "Next,find correlation"
   ]
  },
  {
   "cell_type": "code",
   "execution_count": 41,
   "id": "511e19e9",
   "metadata": {},
   "outputs": [],
   "source": [
    "corr_matrix=traindata.corr()"
   ]
  },
  {
   "cell_type": "code",
   "execution_count": 42,
   "id": "976e10a7",
   "metadata": {},
   "outputs": [
    {
     "data": {
      "image/png": "[encoded data removed]",
      "text/plain": [
       "<Figure size 432x288 with 2 Axes>"
      ]
     },
     "metadata": {
      "needs_background": "light"
     },
     "output_type": "display_data"
    }
   ],
   "source": [
    "sns.heatmap(data=corr_matrix,cmap='BrBG',annot=True,linewidths=0.2)\n",
    "plt.show()"
   ]
  },
  {
   "cell_type": "markdown",
   "id": "71dac610",
   "metadata": {},
   "source": [
    "There are no very high correlated item\n",
    "##### Next,Handling missing values"
   ]
  },
  {
   "cell_type": "code",
   "execution_count": 43,
   "id": "7bdf6b8e",
   "metadata": {},
   "outputs": [
    {
     "name": "stdout",
     "output_type": "stream",
     "text": [
      "Survived        0\n",
      "Pclass          0\n",
      "Sex             0\n",
      "Age           177\n",
      "SibSp           0\n",
      "Parch           0\n",
      "Fare            0\n",
      "Embarked        2\n",
      "FamilySize      0\n",
      "Title           0\n",
      "dtype: int64\n"
     ]
    }
   ],
   "source": [
    "print(traindata.isnull().sum())"
   ]
  },
  {
   "cell_type": "markdown",
   "id": "a3246b1d",
   "metadata": {},
   "source": [
    "Let us fill null in 'Embarked' with the majority value.\n",
    "Majority is 'S' with given value 2"
   ]
  },
  {
   "cell_type": "code",
   "execution_count": 44,
   "id": "634b7571",
   "metadata": {},
   "outputs": [
    {
     "name": "stdout",
     "output_type": "stream",
     "text": [
      "0\n"
     ]
    }
   ],
   "source": [
    "traindata['Embarked']=traindata['Embarked'].fillna(2)\n",
    "print(traindata['Embarked'].isnull().sum())"
   ]
  },
  {
   "cell_type": "markdown",
   "id": "3794ceb6",
   "metadata": {},
   "source": [
    "Next,Handling missing values of Age column.\n",
    "\n",
    "We have to find what are the columns related to Age col."
   ]
  },
  {
   "cell_type": "code",
   "execution_count": 45,
   "id": "22f63145",
   "metadata": {},
   "outputs": [
    {
     "data": {
      "image/png": "[encoded data removed]",
      "text/plain": [
       "<Figure size 432x288 with 2 Axes>"
      ]
     },
     "metadata": {
      "needs_background": "light"
     },
     "output_type": "display_data"
    }
   ],
   "source": [
    "age_corr=traindata[['Pclass','Sex','Age','SibSp','Parch','Fare']].corr()\n",
    "age_corr\n",
    "sns.heatmap(data=age_corr,cmap='bwr',annot=True)\n",
    "plt.show()"
   ]
  },
  {
   "cell_type": "markdown",
   "id": "a88ef8f9",
   "metadata": {},
   "source": [
    "Thus,Parch,SibSp & Pclass are more correlated with Age.\n",
    "\n",
    "So, let us fill missing values of Age with median of these columns with similar values"
   ]
  },
  {
   "cell_type": "code",
   "execution_count": 46,
   "id": "5fcbfbbc",
   "metadata": {},
   "outputs": [],
   "source": [
    "nan_indices=traindata['Age'][traindata['Age'].isnull()].index"
   ]
  },
  {
   "cell_type": "code",
   "execution_count": 47,
   "id": "90bb0fac",
   "metadata": {},
   "outputs": [
    {
     "name": "stdout",
     "output_type": "stream",
     "text": [
      "Int64Index([  5,  17,  19,  26,  28,  29,  31,  32,  36,  42,\n",
      "            ...\n",
      "            832, 837, 839, 846, 849, 859, 863, 868, 878, 888],\n",
      "           dtype='int64', length=177)\n"
     ]
    }
   ],
   "source": [
    "print(nan_indices)"
   ]
  },
  {
   "cell_type": "code",
   "execution_count": 48,
   "id": "c5b782fe",
   "metadata": {},
   "outputs": [],
   "source": [
    "for i in nan_indices:\n",
    "    pred_age=traindata['Age'][((traindata['SibSp']==traindata.iloc[i]['SibSp']) & (traindata['Parch']==traindata.iloc[i]['Parch']) & (traindata['Pclass']==traindata.iloc[i]['Pclass']))].median()\n",
    "    if np.isnan(pred_age):\n",
    "        traindata[\"Age\"].iloc[i]=traindata['Age'].median()\n",
    "    else:\n",
    "        traindata['Age'].iloc[i]=pred_age"
   ]
  },
  {
   "cell_type": "code",
   "execution_count": 49,
   "id": "cc3020c8",
   "metadata": {},
   "outputs": [
    {
     "name": "stdout",
     "output_type": "stream",
     "text": [
      "Survived      0\n",
      "Pclass        0\n",
      "Sex           0\n",
      "Age           0\n",
      "SibSp         0\n",
      "Parch         0\n",
      "Fare          0\n",
      "Embarked      0\n",
      "FamilySize    0\n",
      "Title         0\n",
      "dtype: int64\n"
     ]
    }
   ],
   "source": [
    "print(traindata.isnull().sum())"
   ]
  },
  {
   "cell_type": "markdown",
   "id": "ea761eb8",
   "metadata": {},
   "source": [
    "We have nullified all the null values in the dataset."
   ]
  },
  {
   "cell_type": "code",
   "execution_count": 50,
   "id": "d2ff6b14",
   "metadata": {},
   "outputs": [
    {
     "name": "stdout",
     "output_type": "stream",
     "text": [
      "     Survived  Pclass  Sex   Age  SibSp  Parch     Fare  Embarked  FamilySize  \\\n",
      "0           0       3    0  22.0      1      0   7.2500       2.0           2   \n",
      "1           1       1    1  38.0      1      0  71.2833       0.0           2   \n",
      "2           1       3    1  26.0      0      0   7.9250       2.0           1   \n",
      "3           1       1    1  35.0      1      0  53.1000       2.0           2   \n",
      "4           0       3    0  35.0      0      0   8.0500       2.0           1   \n",
      "..        ...     ...  ...   ...    ...    ...      ...       ...         ...   \n",
      "886         0       2    0  27.0      0      0  13.0000       2.0           1   \n",
      "887         1       1    1  19.0      0      0  30.0000       2.0           1   \n",
      "888         0       3    1  13.5      1      2  23.4500       2.0           4   \n",
      "889         1       1    0  26.0      0      0  30.0000       0.0           1   \n",
      "890         0       3    0  32.0      0      0   7.7500       1.0           1   \n",
      "\n",
      "     Title  \n",
      "0        2  \n",
      "1        3  \n",
      "2        1  \n",
      "3        3  \n",
      "4        2  \n",
      "..     ...  \n",
      "886      4  \n",
      "887      1  \n",
      "888      1  \n",
      "889      2  \n",
      "890      2  \n",
      "\n",
      "[891 rows x 10 columns]\n"
     ]
    }
   ],
   "source": [
    "print(traindata)"
   ]
  },
  {
   "cell_type": "markdown",
   "id": "95f24da4",
   "metadata": {},
   "source": [
    "##### preprocessed traindata is ready"
   ]
  },
  {
   "cell_type": "markdown",
   "id": "f26ac815",
   "metadata": {},
   "source": [
    "Let us split the traindata into training data and validation data"
   ]
  },
  {
   "cell_type": "code",
   "execution_count": 51,
   "id": "b72360de",
   "metadata": {},
   "outputs": [
    {
     "data": {
      "image/png": "[encoded data removed]",
      "text/plain": [
       "<Figure size 432x288 with 2 Axes>"
      ]
     },
     "metadata": {
      "needs_background": "light"
     },
     "output_type": "display_data"
    }
   ],
   "source": [
    "# plt.figure(figsize=(7,6))\n",
    "sns.heatmap(traindata.corr(),cmap='BrBG',annot=True,linewidths=0.5)\n",
    "plt.show()"
   ]
  },
  {
   "cell_type": "markdown",
   "id": "38f1456c",
   "metadata": {},
   "source": [
    "Since, columns 'Sex','Pclass','Fare' & 'Embarked' have reasonable correlation with Survived,let us consider only these 4 features for our model"
   ]
  },
  {
   "cell_type": "markdown",
   "id": "a4372fe0",
   "metadata": {},
   "source": [
    "Here,We select Logistic Regression to build our model,since our target column 'Survived' has categoral values"
   ]
  },
  {
   "cell_type": "code",
   "execution_count": 52,
   "id": "5b0e7f3d",
   "metadata": {},
   "outputs": [],
   "source": [
    "x=traindata.iloc[:,1:]"
   ]
  },
  {
   "cell_type": "code",
   "execution_count": 53,
   "id": "f15656e0",
   "metadata": {},
   "outputs": [
    {
     "name": "stdout",
     "output_type": "stream",
     "text": [
      "     Pclass  Sex   Age  SibSp  Parch     Fare  Embarked  FamilySize  Title\n",
      "0         3    0  22.0      1      0   7.2500       2.0           2      2\n",
      "1         1    1  38.0      1      0  71.2833       0.0           2      3\n",
      "2         3    1  26.0      0      0   7.9250       2.0           1      1\n",
      "3         1    1  35.0      1      0  53.1000       2.0           2      3\n",
      "4         3    0  35.0      0      0   8.0500       2.0           1      2\n",
      "..      ...  ...   ...    ...    ...      ...       ...         ...    ...\n",
      "886       2    0  27.0      0      0  13.0000       2.0           1      4\n",
      "887       1    1  19.0      0      0  30.0000       2.0           1      1\n",
      "888       3    1  13.5      1      2  23.4500       2.0           4      1\n",
      "889       1    0  26.0      0      0  30.0000       0.0           1      2\n",
      "890       3    0  32.0      0      0   7.7500       1.0           1      2\n",
      "\n",
      "[891 rows x 9 columns]\n"
     ]
    }
   ],
   "source": [
    "print(x)"
   ]
  },
  {
   "cell_type": "code",
   "execution_count": 54,
   "id": "bb084afe",
   "metadata": {},
   "outputs": [
    {
     "name": "stdout",
     "output_type": "stream",
     "text": [
      "0      0\n",
      "1      1\n",
      "2      1\n",
      "3      1\n",
      "4      0\n",
      "      ..\n",
      "886    0\n",
      "887    1\n",
      "888    0\n",
      "889    1\n",
      "890    0\n",
      "Name: Survived, Length: 891, dtype: int64\n"
     ]
    }
   ],
   "source": [
    "y=traindata.loc[:,'Survived']\n",
    "print(y)"
   ]
  },
  {
   "cell_type": "code",
   "execution_count": 55,
   "id": "ce4d029d",
   "metadata": {},
   "outputs": [],
   "source": [
    "xtrain,xtest,ytrain,ytest=train_test_split(x,y,test_size=0.3,random_state=12)"
   ]
  },
  {
   "cell_type": "code",
   "execution_count": 56,
   "id": "662646a0",
   "metadata": {},
   "outputs": [
    {
     "data": {
      "text/plain": [
       "(268, 9)"
      ]
     },
     "execution_count": 56,
     "metadata": {},
     "output_type": "execute_result"
    }
   ],
   "source": [
    "xtest.shape"
   ]
  },
  {
   "cell_type": "markdown",
   "id": "b307a4d3",
   "metadata": {},
   "source": [
    "**Building the model**\n"
   ]
  },
  {
   "cell_type": "code",
   "execution_count": 57,
   "id": "b6b64cd5",
   "metadata": {},
   "outputs": [],
   "source": [
    "log_reg=LogisticRegression(penalty='l2',solver='lbfgs',multi_class='multinomial',C=0.4).fit(xtrain,ytrain)"
   ]
  },
  {
   "cell_type": "code",
   "execution_count": 58,
   "id": "236033cf",
   "metadata": {},
   "outputs": [
    {
     "name": "stdout",
     "output_type": "stream",
     "text": [
      "[[-5.20310126e-01  1.30858189e+00 -1.36302505e-02 -3.68378564e-01\n",
      "  -1.95970251e-01  1.08348360e-03 -6.11253238e-02  2.14592163e-01\n",
      "  -1.04329844e-01]]\n"
     ]
    }
   ],
   "source": [
    "print(log_reg.coef_)"
   ]
  },
  {
   "cell_type": "code",
   "execution_count": 59,
   "id": "bc2a7e47",
   "metadata": {},
   "outputs": [
    {
     "name": "stdout",
     "output_type": "stream",
     "text": [
      "[0.9187641]\n"
     ]
    }
   ],
   "source": [
    "print(log_reg.intercept_)"
   ]
  },
  {
   "cell_type": "code",
   "execution_count": 60,
   "id": "ba59ff39",
   "metadata": {},
   "outputs": [
    {
     "name": "stdout",
     "output_type": "stream",
     "text": [
      "[0 0 0 0 0 0 1 1 0 0 0 0 0 0 1 0 0 0 0 0 0 0 0 0 1 0 1 0 0 1 0 0 1 0 0 1 0\n",
      " 0 0 1 0 0 1 0 0 0 1 0 0 0 0 1 1 0 0 0 0 1 0 0 0 1 1 0 0 1 1 1 0 0 0 0 0 1\n",
      " 1 1 0 0 1 0 1 1 1 0 0 0 1 0 0 0 0 1 1 1 1 0 1 1 1 1 1 0 0 0 0 0 0 0 1 1 1\n",
      " 0 0 0 1 1 1 0 0 0 0 0 0 0 1 0 0 1 1 1 0 1 0 1 0 1 0 1 1 0 0 1 0 0 1 1 0 1\n",
      " 0 0 0 1 0 1 0 1 0 0 1 0 0 0 0 0 1 0 1 1 1 0 1 0 0 1 0 0 0 0 1 1 0 0 0 0 0\n",
      " 0 0 0 1 1 0 1 0 0 0 0 1 0 0 1 1 0 0 0 0 1 0 0 1 0 0 0 0 0 1 0 0 0 1 1 0 0\n",
      " 0 0 0 0 0 0 1 1 0 0 0 0 0 1 0 0 0 1 0 0 1 0 0 1 0 0 0 0 1 0 1 1 0 0 0 0 0\n",
      " 0 1 0 1 0 0 0 0 1]\n"
     ]
    }
   ],
   "source": [
    "ypred=log_reg.predict(xtest)\n",
    "print(ypred)"
   ]
  },
  {
   "cell_type": "code",
   "execution_count": 61,
   "id": "adf6c2a9",
   "metadata": {},
   "outputs": [
    {
     "name": "stdout",
     "output_type": "stream",
     "text": [
      "[[0.75953429 0.24046571]\n",
      " [0.60094732 0.39905268]\n",
      " [0.88817823 0.11182177]\n",
      " [0.61673066 0.38326934]\n",
      " [0.88801941 0.11198059]\n",
      " [0.74428233 0.25571767]\n",
      " [0.35059106 0.64940894]\n",
      " [0.4452755  0.5547245 ]\n",
      " [0.82465481 0.17534519]\n",
      " [0.79108399 0.20891601]\n",
      " [0.9233427  0.0766573 ]\n",
      " [0.89613082 0.10386918]\n",
      " [0.848783   0.151217  ]\n",
      " [0.5360067  0.4639933 ]\n",
      " [0.2695827  0.7304173 ]\n",
      " [0.84094446 0.15905554]\n",
      " [0.81925936 0.18074064]\n",
      " [0.78841701 0.21158299]\n",
      " [0.88841242 0.11158758]\n",
      " [0.90102199 0.09897801]\n",
      " [0.60565374 0.39434626]\n",
      " [0.74017596 0.25982404]\n",
      " [0.93696683 0.06303317]\n",
      " [0.50613009 0.49386991]\n",
      " [0.38206351 0.61793649]\n",
      " [0.60328347 0.39671653]\n",
      " [0.29403535 0.70596465]\n",
      " [0.52380478 0.47619522]\n",
      " [0.90760632 0.09239368]\n",
      " [0.1386974  0.8613026 ]\n",
      " [0.92097341 0.07902659]\n",
      " [0.88696406 0.11303594]\n",
      " [0.32319525 0.67680475]\n",
      " [0.91030297 0.08969703]\n",
      " [0.88767961 0.11232039]\n",
      " [0.1909498  0.8090502 ]\n",
      " [0.89861268 0.10138732]\n",
      " [0.91145016 0.08854984]\n",
      " [0.74557879 0.25442121]\n",
      " [0.32607933 0.67392067]\n",
      " [0.90099219 0.09900781]\n",
      " [0.81827333 0.18172667]\n",
      " [0.25116991 0.74883009]\n",
      " [0.56540935 0.43459065]\n",
      " [0.93735205 0.06264795]\n",
      " [0.92338165 0.07661835]\n",
      " [0.04726403 0.95273597]\n",
      " [0.9355469  0.0644531 ]\n",
      " [0.86596275 0.13403725]\n",
      " [0.78023991 0.21976009]\n",
      " [0.71892246 0.28107754]\n",
      " [0.05080681 0.94919319]\n",
      " [0.07554079 0.92445921]\n",
      " [0.53648125 0.46351875]\n",
      " [0.90102199 0.09897801]\n",
      " [0.90102199 0.09897801]\n",
      " [0.8826196  0.1173804 ]\n",
      " [0.13231167 0.86768833]\n",
      " [0.51566036 0.48433964]\n",
      " [0.91096033 0.08903967]\n",
      " [0.93830541 0.06169459]\n",
      " [0.45102642 0.54897358]\n",
      " [0.29299469 0.70700531]\n",
      " [0.54398537 0.45601463]\n",
      " [0.87441022 0.12558978]\n",
      " [0.04987227 0.95012773]\n",
      " [0.1707388  0.8292612 ]\n",
      " [0.45011495 0.54988505]\n",
      " [0.90303857 0.09696143]\n",
      " [0.87713505 0.12286495]\n",
      " [0.90109717 0.09890283]\n",
      " [0.88268132 0.11731868]\n",
      " [0.84210714 0.15789286]\n",
      " [0.45884113 0.54115887]\n",
      " [0.32319525 0.67680475]\n",
      " [0.07889002 0.92110998]\n",
      " [0.91313896 0.08686104]\n",
      " [0.93798418 0.06201582]\n",
      " [0.3230116  0.6769884 ]\n",
      " [0.90328163 0.09671837]\n",
      " [0.1774028  0.8225972 ]\n",
      " [0.42211739 0.57788261]\n",
      " [0.18429544 0.81570456]\n",
      " [0.72813736 0.27186264]\n",
      " [0.89348564 0.10651436]\n",
      " [0.58778074 0.41221926]\n",
      " [0.08107236 0.91892764]\n",
      " [0.89099931 0.10900069]\n",
      " [0.92843905 0.07156095]\n",
      " [0.57721568 0.42278432]\n",
      " [0.88270937 0.11729063]\n",
      " [0.10451966 0.89548034]\n",
      " [0.18908263 0.81091737]\n",
      " [0.37330307 0.62669693]\n",
      " [0.4957368  0.5042632 ]\n",
      " [0.96442159 0.03557841]\n",
      " [0.08836285 0.91163715]\n",
      " [0.27574401 0.72425599]\n",
      " [0.151812   0.848188  ]\n",
      " [0.40437531 0.59562469]\n",
      " [0.48608504 0.51391496]\n",
      " [0.84094446 0.15905554]\n",
      " [0.50898483 0.49101517]\n",
      " [0.93358683 0.06641317]\n",
      " [0.88042531 0.11957469]\n",
      " [0.91468935 0.08531065]\n",
      " [0.92780758 0.07219242]\n",
      " [0.88815133 0.11184867]\n",
      " [0.35044099 0.64955901]\n",
      " [0.23805226 0.76194774]\n",
      " [0.10149727 0.89850273]\n",
      " [0.5366035  0.4633965 ]\n",
      " [0.50552989 0.49447011]\n",
      " [0.51566036 0.48433964]\n",
      " [0.16318824 0.83681176]\n",
      " [0.09887461 0.90112539]\n",
      " [0.19248532 0.80751468]\n",
      " [0.71887076 0.28112924]\n",
      " [0.58116024 0.41883976]\n",
      " [0.94744797 0.05255203]\n",
      " [0.63576741 0.36423259]\n",
      " [0.90810182 0.09189818]\n",
      " [0.91663791 0.08336209]\n",
      " [0.87549363 0.12450637]\n",
      " [0.32313401 0.67686599]\n",
      " [0.90609669 0.09390331]\n",
      " [0.53048591 0.46951409]\n",
      " [0.14188059 0.85811941]\n",
      " [0.33191295 0.66808705]\n",
      " [0.16298355 0.83701645]\n",
      " [0.93512725 0.06487275]\n",
      " [0.31895724 0.68104276]\n",
      " [0.66995405 0.33004595]\n",
      " [0.48368677 0.51631323]\n",
      " [0.98918177 0.01081823]\n",
      " [0.13394502 0.86605498]\n",
      " [0.62858435 0.37141565]\n",
      " [0.485432   0.514568  ]\n",
      " [0.26204036 0.73795964]\n",
      " [0.90098011 0.09901989]\n",
      " [0.69106448 0.30893552]\n",
      " [0.26122781 0.73877219]\n",
      " [0.95890308 0.04109692]\n",
      " [0.65548775 0.34451225]\n",
      " [0.2914202  0.7085798 ]\n",
      " [0.35679336 0.64320664]\n",
      " [0.93601307 0.06398693]\n",
      " [0.33220618 0.66779382]\n",
      " [0.51503848 0.48496152]\n",
      " [0.68332305 0.31667695]\n",
      " [0.92287767 0.07712233]\n",
      " [0.0769317  0.9230683 ]\n",
      " [0.88960881 0.11039119]\n",
      " [0.28004723 0.71995277]\n",
      " [0.88202213 0.11797787]\n",
      " [0.40208526 0.59791474]\n",
      " [0.87697929 0.12302071]\n",
      " [0.55774033 0.44225967]\n",
      " [0.32017638 0.67982362]\n",
      " [0.91271391 0.08728609]\n",
      " [0.83346547 0.16653453]\n",
      " [0.88259528 0.11740472]\n",
      " [0.68319221 0.31680779]\n",
      " [0.87713603 0.12286397]\n",
      " [0.35663617 0.64336383]\n",
      " [0.60533022 0.39466978]\n",
      " [0.08541153 0.91458847]\n",
      " [0.38915204 0.61084796]\n",
      " [0.29564255 0.70435745]\n",
      " [0.61988474 0.38011526]\n",
      " [0.40208526 0.59791474]\n",
      " [0.64202709 0.35797291]\n",
      " [0.88815133 0.11184867]\n",
      " [0.41185055 0.58814945]\n",
      " [0.88265421 0.11734579]\n",
      " [0.68472239 0.31527761]\n",
      " [0.9114097  0.0885903 ]\n",
      " [0.92098524 0.07901476]\n",
      " [0.1772507  0.8227493 ]\n",
      " [0.43681096 0.56318904]\n",
      " [0.90523653 0.09476347]\n",
      " [0.76570422 0.23429578]\n",
      " [0.91044442 0.08955558]\n",
      " [0.98918177 0.01081823]\n",
      " [0.89613302 0.10386698]\n",
      " [0.79819243 0.20180757]\n",
      " [0.76932458 0.23067542]\n",
      " [0.57839831 0.42160169]\n",
      " [0.17273664 0.82726336]\n",
      " [0.16756406 0.83243594]\n",
      " [0.89607249 0.10392751]\n",
      " [0.18988027 0.81011973]\n",
      " [0.88839878 0.11160122]\n",
      " [0.94115624 0.05884376]\n",
      " [0.6423374  0.3576626 ]\n",
      " [0.94054617 0.05945383]\n",
      " [0.05295233 0.94704767]\n",
      " [0.60302413 0.39697587]\n",
      " [0.73614464 0.26385536]\n",
      " [0.11664852 0.88335148]\n",
      " [0.39104329 0.60895671]\n",
      " [0.92649782 0.07350218]\n",
      " [0.51975037 0.48024963]\n",
      " [0.88265421 0.11734579]\n",
      " [0.71952719 0.28047281]\n",
      " [0.228882   0.771118  ]\n",
      " [0.88960349 0.11039651]\n",
      " [0.81505047 0.18494953]\n",
      " [0.18567641 0.81432359]\n",
      " [0.91881706 0.08118294]\n",
      " [0.90542446 0.09457554]\n",
      " [0.70867278 0.29132722]\n",
      " [0.88960349 0.11039651]\n",
      " [0.83011947 0.16988053]\n",
      " [0.19198887 0.80801113]\n",
      " [0.95954787 0.04045213]\n",
      " [0.90099219 0.09900781]\n",
      " [0.87387819 0.12612181]\n",
      " [0.25526627 0.74473373]\n",
      " [0.20039746 0.79960254]\n",
      " [0.91176653 0.08823347]\n",
      " [0.90113466 0.09886534]\n",
      " [0.88509535 0.11490465]\n",
      " [0.88960349 0.11039651]\n",
      " [0.82185551 0.17814449]\n",
      " [0.88441482 0.11558518]\n",
      " [0.60666772 0.39333228]\n",
      " [0.93869199 0.06130801]\n",
      " [0.28210268 0.71789732]\n",
      " [0.30258599 0.69741401]\n",
      " [0.90102199 0.09897801]\n",
      " [0.83200669 0.16799331]\n",
      " [0.7957961  0.2042039 ]\n",
      " [0.59709569 0.40290431]\n",
      " [0.88265421 0.11734579]\n",
      " [0.38190701 0.61809299]\n",
      " [0.6652323  0.3347677 ]\n",
      " [0.89605231 0.10394769]\n",
      " [0.91004608 0.08995392]\n",
      " [0.38737705 0.61262295]\n",
      " [0.61416637 0.38583363]\n",
      " [0.92606761 0.07393239]\n",
      " [0.04024055 0.95975945]\n",
      " [0.7980458  0.2019542 ]\n",
      " [0.9125257  0.0874743 ]\n",
      " [0.48848321 0.51151679]\n",
      " [0.88640669 0.11359331]\n",
      " [0.89873108 0.10126892]\n",
      " [0.91468231 0.08531769]\n",
      " [0.74428233 0.25571767]\n",
      " [0.02208165 0.97791835]\n",
      " [0.56797313 0.43202687]\n",
      " [0.07394902 0.92605098]\n",
      " [0.20722302 0.79277698]\n",
      " [0.90808373 0.09191627]\n",
      " [0.6596028  0.3403972 ]\n",
      " [0.87970844 0.12029156]\n",
      " [0.92519436 0.07480564]\n",
      " [0.87359928 0.12640072]\n",
      " [0.52193882 0.47806118]\n",
      " [0.04067776 0.95932224]\n",
      " [0.62801378 0.37198622]\n",
      " [0.35034442 0.64965558]\n",
      " [0.96155129 0.03844871]\n",
      " [0.94385931 0.05614069]\n",
      " [0.74234779 0.25765221]\n",
      " [0.58041813 0.41958187]\n",
      " [0.14227678 0.85772322]]\n"
     ]
    }
   ],
   "source": [
    "print(log_reg.predict_proba(xtest))"
   ]
  },
  {
   "cell_type": "markdown",
   "id": "6f317ee7",
   "metadata": {},
   "source": [
    "**Evaluating our model**"
   ]
  },
  {
   "cell_type": "code",
   "execution_count": 62,
   "id": "c718b14e",
   "metadata": {},
   "outputs": [],
   "source": [
    "confusion_mat=confusion_matrix(ytest,ypred)"
   ]
  },
  {
   "cell_type": "code",
   "execution_count": 63,
   "id": "d132d7f8",
   "metadata": {},
   "outputs": [
    {
     "name": "stdout",
     "output_type": "stream",
     "text": [
      "[[141  20]\n",
      " [ 37  70]]\n"
     ]
    }
   ],
   "source": [
    "print(confusion_mat)"
   ]
  },
  {
   "cell_type": "code",
   "execution_count": 64,
   "id": "a85209d6",
   "metadata": {},
   "outputs": [],
   "source": [
    "class_report=classification_report(ytest,ypred)"
   ]
  },
  {
   "cell_type": "code",
   "execution_count": 65,
   "id": "76d4a85e",
   "metadata": {},
   "outputs": [
    {
     "name": "stdout",
     "output_type": "stream",
     "text": [
      "              precision    recall  f1-score   support\n",
      "\n",
      "           0       0.79      0.88      0.83       161\n",
      "           1       0.78      0.65      0.71       107\n",
      "\n",
      "    accuracy                           0.79       268\n",
      "   macro avg       0.78      0.76      0.77       268\n",
      "weighted avg       0.79      0.79      0.78       268\n",
      "\n"
     ]
    }
   ],
   "source": [
    "print(class_report)"
   ]
  }
 ],
 "metadata": {
  "kernelspec": {
   "display_name": "Python 3",
   "language": "python",
   "name": "python3"
  },
  "language_info": {
   "codemirror_mode": {
    "name": "ipython",
    "version": 3
   },
   "file_extension": ".py",
   "mimetype": "text/x-python",
   "name": "python",
   "nbconvert_exporter": "python",
   "pygments_lexer": "ipython3",
   "version": "3.9.4"
  }
 },
 "nbformat": 4,
 "nbformat_minor": 5
}
